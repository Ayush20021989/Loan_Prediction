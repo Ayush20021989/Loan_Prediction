{
  "cells": [
    {
      "cell_type": "code",
      "execution_count": 1,
      "id": "d32bdfa9",
      "metadata": {
        "id": "d32bdfa9"
      },
      "outputs": [],
      "source": [
        "import pandas as pd\n",
        "import numpy as np\n",
        "from sklearn import metrics"
      ]
    },
    {
      "cell_type": "markdown",
      "source": [
        "#Reading CSV File "
      ],
      "metadata": {
        "id": "cHDXLH_rsr7B"
      },
      "id": "cHDXLH_rsr7B"
    },
    {
      "cell_type": "code",
      "execution_count": 2,
      "id": "99b5346d",
      "metadata": {
        "scrolled": true,
        "colab": {
          "base_uri": "https://localhost:8080/",
          "height": 287
        },
        "id": "99b5346d",
        "outputId": "b69e17c7-4ade-4358-dd41-246948b9543f"
      },
      "outputs": [
        {
          "output_type": "execute_result",
          "data": {
            "text/plain": [
              "    Loan_ID Gender Married Dependents     Education Self_Employed  \\\n",
              "0  LP001002   Male      No          0      Graduate            No   \n",
              "1  LP001003   Male     Yes          1      Graduate            No   \n",
              "2  LP001005   Male     Yes          0      Graduate           Yes   \n",
              "3  LP001006   Male     Yes          0  Not Graduate            No   \n",
              "4  LP001008   Male      No          0      Graduate            No   \n",
              "\n",
              "   ApplicantIncome  CoapplicantIncome  LoanAmount  Loan_Amount_Term  \\\n",
              "0             5849                0.0         NaN             360.0   \n",
              "1             4583             1508.0       128.0             360.0   \n",
              "2             3000                0.0        66.0             360.0   \n",
              "3             2583             2358.0       120.0             360.0   \n",
              "4             6000                0.0       141.0             360.0   \n",
              "\n",
              "   Credit_History Property_Area Loan_Status  \n",
              "0             1.0         Urban           Y  \n",
              "1             1.0         Rural           N  \n",
              "2             1.0         Urban           Y  \n",
              "3             1.0         Urban           Y  \n",
              "4             1.0         Urban           Y  "
            ],
            "text/html": [
              "\n",
              "  <div id=\"df-ad0a4bfe-edc0-499d-889f-074b2b3d56b0\">\n",
              "    <div class=\"colab-df-container\">\n",
              "      <div>\n",
              "<style scoped>\n",
              "    .dataframe tbody tr th:only-of-type {\n",
              "        vertical-align: middle;\n",
              "    }\n",
              "\n",
              "    .dataframe tbody tr th {\n",
              "        vertical-align: top;\n",
              "    }\n",
              "\n",
              "    .dataframe thead th {\n",
              "        text-align: right;\n",
              "    }\n",
              "</style>\n",
              "<table border=\"1\" class=\"dataframe\">\n",
              "  <thead>\n",
              "    <tr style=\"text-align: right;\">\n",
              "      <th></th>\n",
              "      <th>Loan_ID</th>\n",
              "      <th>Gender</th>\n",
              "      <th>Married</th>\n",
              "      <th>Dependents</th>\n",
              "      <th>Education</th>\n",
              "      <th>Self_Employed</th>\n",
              "      <th>ApplicantIncome</th>\n",
              "      <th>CoapplicantIncome</th>\n",
              "      <th>LoanAmount</th>\n",
              "      <th>Loan_Amount_Term</th>\n",
              "      <th>Credit_History</th>\n",
              "      <th>Property_Area</th>\n",
              "      <th>Loan_Status</th>\n",
              "    </tr>\n",
              "  </thead>\n",
              "  <tbody>\n",
              "    <tr>\n",
              "      <th>0</th>\n",
              "      <td>LP001002</td>\n",
              "      <td>Male</td>\n",
              "      <td>No</td>\n",
              "      <td>0</td>\n",
              "      <td>Graduate</td>\n",
              "      <td>No</td>\n",
              "      <td>5849</td>\n",
              "      <td>0.0</td>\n",
              "      <td>NaN</td>\n",
              "      <td>360.0</td>\n",
              "      <td>1.0</td>\n",
              "      <td>Urban</td>\n",
              "      <td>Y</td>\n",
              "    </tr>\n",
              "    <tr>\n",
              "      <th>1</th>\n",
              "      <td>LP001003</td>\n",
              "      <td>Male</td>\n",
              "      <td>Yes</td>\n",
              "      <td>1</td>\n",
              "      <td>Graduate</td>\n",
              "      <td>No</td>\n",
              "      <td>4583</td>\n",
              "      <td>1508.0</td>\n",
              "      <td>128.0</td>\n",
              "      <td>360.0</td>\n",
              "      <td>1.0</td>\n",
              "      <td>Rural</td>\n",
              "      <td>N</td>\n",
              "    </tr>\n",
              "    <tr>\n",
              "      <th>2</th>\n",
              "      <td>LP001005</td>\n",
              "      <td>Male</td>\n",
              "      <td>Yes</td>\n",
              "      <td>0</td>\n",
              "      <td>Graduate</td>\n",
              "      <td>Yes</td>\n",
              "      <td>3000</td>\n",
              "      <td>0.0</td>\n",
              "      <td>66.0</td>\n",
              "      <td>360.0</td>\n",
              "      <td>1.0</td>\n",
              "      <td>Urban</td>\n",
              "      <td>Y</td>\n",
              "    </tr>\n",
              "    <tr>\n",
              "      <th>3</th>\n",
              "      <td>LP001006</td>\n",
              "      <td>Male</td>\n",
              "      <td>Yes</td>\n",
              "      <td>0</td>\n",
              "      <td>Not Graduate</td>\n",
              "      <td>No</td>\n",
              "      <td>2583</td>\n",
              "      <td>2358.0</td>\n",
              "      <td>120.0</td>\n",
              "      <td>360.0</td>\n",
              "      <td>1.0</td>\n",
              "      <td>Urban</td>\n",
              "      <td>Y</td>\n",
              "    </tr>\n",
              "    <tr>\n",
              "      <th>4</th>\n",
              "      <td>LP001008</td>\n",
              "      <td>Male</td>\n",
              "      <td>No</td>\n",
              "      <td>0</td>\n",
              "      <td>Graduate</td>\n",
              "      <td>No</td>\n",
              "      <td>6000</td>\n",
              "      <td>0.0</td>\n",
              "      <td>141.0</td>\n",
              "      <td>360.0</td>\n",
              "      <td>1.0</td>\n",
              "      <td>Urban</td>\n",
              "      <td>Y</td>\n",
              "    </tr>\n",
              "  </tbody>\n",
              "</table>\n",
              "</div>\n",
              "      <button class=\"colab-df-convert\" onclick=\"convertToInteractive('df-ad0a4bfe-edc0-499d-889f-074b2b3d56b0')\"\n",
              "              title=\"Convert this dataframe to an interactive table.\"\n",
              "              style=\"display:none;\">\n",
              "        \n",
              "  <svg xmlns=\"http://www.w3.org/2000/svg\" height=\"24px\"viewBox=\"0 0 24 24\"\n",
              "       width=\"24px\">\n",
              "    <path d=\"M0 0h24v24H0V0z\" fill=\"none\"/>\n",
              "    <path d=\"M18.56 5.44l.94 2.06.94-2.06 2.06-.94-2.06-.94-.94-2.06-.94 2.06-2.06.94zm-11 1L8.5 8.5l.94-2.06 2.06-.94-2.06-.94L8.5 2.5l-.94 2.06-2.06.94zm10 10l.94 2.06.94-2.06 2.06-.94-2.06-.94-.94-2.06-.94 2.06-2.06.94z\"/><path d=\"M17.41 7.96l-1.37-1.37c-.4-.4-.92-.59-1.43-.59-.52 0-1.04.2-1.43.59L10.3 9.45l-7.72 7.72c-.78.78-.78 2.05 0 2.83L4 21.41c.39.39.9.59 1.41.59.51 0 1.02-.2 1.41-.59l7.78-7.78 2.81-2.81c.8-.78.8-2.07 0-2.86zM5.41 20L4 18.59l7.72-7.72 1.47 1.35L5.41 20z\"/>\n",
              "  </svg>\n",
              "      </button>\n",
              "      \n",
              "  <style>\n",
              "    .colab-df-container {\n",
              "      display:flex;\n",
              "      flex-wrap:wrap;\n",
              "      gap: 12px;\n",
              "    }\n",
              "\n",
              "    .colab-df-convert {\n",
              "      background-color: #E8F0FE;\n",
              "      border: none;\n",
              "      border-radius: 50%;\n",
              "      cursor: pointer;\n",
              "      display: none;\n",
              "      fill: #1967D2;\n",
              "      height: 32px;\n",
              "      padding: 0 0 0 0;\n",
              "      width: 32px;\n",
              "    }\n",
              "\n",
              "    .colab-df-convert:hover {\n",
              "      background-color: #E2EBFA;\n",
              "      box-shadow: 0px 1px 2px rgba(60, 64, 67, 0.3), 0px 1px 3px 1px rgba(60, 64, 67, 0.15);\n",
              "      fill: #174EA6;\n",
              "    }\n",
              "\n",
              "    [theme=dark] .colab-df-convert {\n",
              "      background-color: #3B4455;\n",
              "      fill: #D2E3FC;\n",
              "    }\n",
              "\n",
              "    [theme=dark] .colab-df-convert:hover {\n",
              "      background-color: #434B5C;\n",
              "      box-shadow: 0px 1px 3px 1px rgba(0, 0, 0, 0.15);\n",
              "      filter: drop-shadow(0px 1px 2px rgba(0, 0, 0, 0.3));\n",
              "      fill: #FFFFFF;\n",
              "    }\n",
              "  </style>\n",
              "\n",
              "      <script>\n",
              "        const buttonEl =\n",
              "          document.querySelector('#df-ad0a4bfe-edc0-499d-889f-074b2b3d56b0 button.colab-df-convert');\n",
              "        buttonEl.style.display =\n",
              "          google.colab.kernel.accessAllowed ? 'block' : 'none';\n",
              "\n",
              "        async function convertToInteractive(key) {\n",
              "          const element = document.querySelector('#df-ad0a4bfe-edc0-499d-889f-074b2b3d56b0');\n",
              "          const dataTable =\n",
              "            await google.colab.kernel.invokeFunction('convertToInteractive',\n",
              "                                                     [key], {});\n",
              "          if (!dataTable) return;\n",
              "\n",
              "          const docLinkHtml = 'Like what you see? Visit the ' +\n",
              "            '<a target=\"_blank\" href=https://colab.research.google.com/notebooks/data_table.ipynb>data table notebook</a>'\n",
              "            + ' to learn more about interactive tables.';\n",
              "          element.innerHTML = '';\n",
              "          dataTable['output_type'] = 'display_data';\n",
              "          await google.colab.output.renderOutput(dataTable, element);\n",
              "          const docLink = document.createElement('div');\n",
              "          docLink.innerHTML = docLinkHtml;\n",
              "          element.appendChild(docLink);\n",
              "        }\n",
              "      </script>\n",
              "    </div>\n",
              "  </div>\n",
              "  "
            ]
          },
          "metadata": {},
          "execution_count": 2
        }
      ],
      "source": [
        "loan=pd.read_csv(\"Loan_Prediction.csv\")\n",
        "loan.head()"
      ]
    },
    {
      "cell_type": "markdown",
      "source": [
        "# Deleting Loan_ID and CoapplicantIncome column"
      ],
      "metadata": {
        "id": "quuaUOfFtDEE"
      },
      "id": "quuaUOfFtDEE"
    },
    {
      "cell_type": "code",
      "execution_count": 3,
      "id": "c6cdb3c4",
      "metadata": {
        "id": "c6cdb3c4"
      },
      "outputs": [],
      "source": [
        "del loan[\"Loan_ID\"]\n",
        "del loan[\"CoapplicantIncome\"]"
      ]
    },
    {
      "cell_type": "markdown",
      "source": [
        "# **CHANGING STRING VALUES TO INTEGER**"
      ],
      "metadata": {
        "id": "Ep-eWDfQtaQx"
      },
      "id": "Ep-eWDfQtaQx"
    },
    {
      "cell_type": "markdown",
      "source": [
        "# For Gender Column"
      ],
      "metadata": {
        "id": "bbAWjELdtjW-"
      },
      "id": "bbAWjELdtjW-"
    },
    {
      "cell_type": "code",
      "execution_count": 4,
      "id": "a329a635",
      "metadata": {
        "scrolled": true,
        "id": "a329a635"
      },
      "outputs": [],
      "source": [
        "def fun(s):\n",
        "    if(s==\"Male\"):\n",
        "        return 1\n",
        "    elif(s==\"Female\"):\n",
        "        return 0\n",
        "\n",
        "loan[\"Gender\"]=loan.Gender.apply(fun)"
      ]
    },
    {
      "cell_type": "markdown",
      "source": [
        "#For Married Column"
      ],
      "metadata": {
        "id": "s2mydLOXt0_N"
      },
      "id": "s2mydLOXt0_N"
    },
    {
      "cell_type": "code",
      "execution_count": 5,
      "id": "f55e804a",
      "metadata": {
        "scrolled": true,
        "id": "f55e804a"
      },
      "outputs": [],
      "source": [
        "def fun(s):\n",
        "    if(s==\"Yes\"):\n",
        "        return 1\n",
        "    elif(s==\"No\"):\n",
        "        return 0\n",
        "\n",
        "loan[\"Married\"]=loan.Married.apply(fun)"
      ]
    },
    {
      "cell_type": "markdown",
      "source": [
        "# For Education Column"
      ],
      "metadata": {
        "id": "Wux9jCvGuAZl"
      },
      "id": "Wux9jCvGuAZl"
    },
    {
      "cell_type": "code",
      "execution_count": 6,
      "id": "2322def8",
      "metadata": {
        "scrolled": true,
        "id": "2322def8"
      },
      "outputs": [],
      "source": [
        "def fun(s):\n",
        "    if(s==\"Graduate\"):\n",
        "        return 1\n",
        "    elif(s==\"Not Graduate\"):\n",
        "        return 0\n",
        "\n",
        "loan[\"Education\"]=loan.Education.apply(fun)"
      ]
    },
    {
      "cell_type": "markdown",
      "source": [
        "# For Self_Employed Column"
      ],
      "metadata": {
        "id": "KERhA3CJuImx"
      },
      "id": "KERhA3CJuImx"
    },
    {
      "cell_type": "code",
      "execution_count": 7,
      "id": "3221b12a",
      "metadata": {
        "scrolled": true,
        "id": "3221b12a"
      },
      "outputs": [],
      "source": [
        "def fun(s):\n",
        "    if(s==\"Yes\"):\n",
        "        return 1\n",
        "    elif(s==\"No\"):\n",
        "        return 0\n",
        "\n",
        "loan[\"Self_Employed\"]=loan.Self_Employed.apply(fun)"
      ]
    },
    {
      "cell_type": "markdown",
      "source": [
        "# For Property_Area Column"
      ],
      "metadata": {
        "id": "m6lW66ABuXDp"
      },
      "id": "m6lW66ABuXDp"
    },
    {
      "cell_type": "code",
      "execution_count": 8,
      "id": "01209539",
      "metadata": {
        "scrolled": true,
        "id": "01209539"
      },
      "outputs": [],
      "source": [
        "def fun(s):\n",
        "    if(s==\"Urban\"):\n",
        "        return 2\n",
        "    elif(s==\"Rural\"):\n",
        "        return 1\n",
        "    elif(s==\"Semiurban\"):\n",
        "        return 0\n",
        "\n",
        "loan[\"Property_Area\"]=loan.Property_Area.apply(fun)"
      ]
    },
    {
      "cell_type": "markdown",
      "source": [
        "# For Loan_Status Column"
      ],
      "metadata": {
        "id": "YVHlJridufxJ"
      },
      "id": "YVHlJridufxJ"
    },
    {
      "cell_type": "code",
      "execution_count": 9,
      "id": "3f3ee9d4",
      "metadata": {
        "scrolled": true,
        "id": "3f3ee9d4"
      },
      "outputs": [],
      "source": [
        "def fun(s):\n",
        "    if(s==\"Y\"):\n",
        "        return 1\n",
        "    elif(s==\"N\"):\n",
        "        return 0\n",
        "\n",
        "loan[\"Loan_Status\"]=loan.Loan_Status.apply(fun)"
      ]
    },
    {
      "cell_type": "markdown",
      "source": [
        "# For Dependents Column"
      ],
      "metadata": {
        "id": "nGU_Q4tyuwaW"
      },
      "id": "nGU_Q4tyuwaW"
    },
    {
      "cell_type": "code",
      "execution_count": 10,
      "id": "af76e7c3",
      "metadata": {
        "id": "af76e7c3"
      },
      "outputs": [],
      "source": [
        "def fun(s):\n",
        "    if(s==\"3+\"):\n",
        "        return 3\n",
        "    elif(s==\"1\"):\n",
        "        return 1\n",
        "    elif(s==\"0\"):\n",
        "        return 0\n",
        "    elif(s==\"2\"):\n",
        "        return 2\n",
        "\n",
        "loan[\"Dependents\"]=loan.Dependents.apply(fun)"
      ]
    },
    {
      "cell_type": "code",
      "source": [
        "loan.head()"
      ],
      "metadata": {
        "colab": {
          "base_uri": "https://localhost:8080/",
          "height": 270
        },
        "id": "LzTgvBzZvXNX",
        "outputId": "382b7d4b-85df-49b5-eaec-56a6932a62b9"
      },
      "id": "LzTgvBzZvXNX",
      "execution_count": 11,
      "outputs": [
        {
          "output_type": "execute_result",
          "data": {
            "text/plain": [
              "   Gender  Married  Dependents  Education  Self_Employed  ApplicantIncome  \\\n",
              "0     1.0      0.0         0.0          1            0.0             5849   \n",
              "1     1.0      1.0         1.0          1            0.0             4583   \n",
              "2     1.0      1.0         0.0          1            1.0             3000   \n",
              "3     1.0      1.0         0.0          0            0.0             2583   \n",
              "4     1.0      0.0         0.0          1            0.0             6000   \n",
              "\n",
              "   LoanAmount  Loan_Amount_Term  Credit_History  Property_Area  Loan_Status  \n",
              "0         NaN             360.0             1.0              2            1  \n",
              "1       128.0             360.0             1.0              1            0  \n",
              "2        66.0             360.0             1.0              2            1  \n",
              "3       120.0             360.0             1.0              2            1  \n",
              "4       141.0             360.0             1.0              2            1  "
            ],
            "text/html": [
              "\n",
              "  <div id=\"df-53f127e5-e8ee-421f-b35c-6f7efdd7ab58\">\n",
              "    <div class=\"colab-df-container\">\n",
              "      <div>\n",
              "<style scoped>\n",
              "    .dataframe tbody tr th:only-of-type {\n",
              "        vertical-align: middle;\n",
              "    }\n",
              "\n",
              "    .dataframe tbody tr th {\n",
              "        vertical-align: top;\n",
              "    }\n",
              "\n",
              "    .dataframe thead th {\n",
              "        text-align: right;\n",
              "    }\n",
              "</style>\n",
              "<table border=\"1\" class=\"dataframe\">\n",
              "  <thead>\n",
              "    <tr style=\"text-align: right;\">\n",
              "      <th></th>\n",
              "      <th>Gender</th>\n",
              "      <th>Married</th>\n",
              "      <th>Dependents</th>\n",
              "      <th>Education</th>\n",
              "      <th>Self_Employed</th>\n",
              "      <th>ApplicantIncome</th>\n",
              "      <th>LoanAmount</th>\n",
              "      <th>Loan_Amount_Term</th>\n",
              "      <th>Credit_History</th>\n",
              "      <th>Property_Area</th>\n",
              "      <th>Loan_Status</th>\n",
              "    </tr>\n",
              "  </thead>\n",
              "  <tbody>\n",
              "    <tr>\n",
              "      <th>0</th>\n",
              "      <td>1.0</td>\n",
              "      <td>0.0</td>\n",
              "      <td>0.0</td>\n",
              "      <td>1</td>\n",
              "      <td>0.0</td>\n",
              "      <td>5849</td>\n",
              "      <td>NaN</td>\n",
              "      <td>360.0</td>\n",
              "      <td>1.0</td>\n",
              "      <td>2</td>\n",
              "      <td>1</td>\n",
              "    </tr>\n",
              "    <tr>\n",
              "      <th>1</th>\n",
              "      <td>1.0</td>\n",
              "      <td>1.0</td>\n",
              "      <td>1.0</td>\n",
              "      <td>1</td>\n",
              "      <td>0.0</td>\n",
              "      <td>4583</td>\n",
              "      <td>128.0</td>\n",
              "      <td>360.0</td>\n",
              "      <td>1.0</td>\n",
              "      <td>1</td>\n",
              "      <td>0</td>\n",
              "    </tr>\n",
              "    <tr>\n",
              "      <th>2</th>\n",
              "      <td>1.0</td>\n",
              "      <td>1.0</td>\n",
              "      <td>0.0</td>\n",
              "      <td>1</td>\n",
              "      <td>1.0</td>\n",
              "      <td>3000</td>\n",
              "      <td>66.0</td>\n",
              "      <td>360.0</td>\n",
              "      <td>1.0</td>\n",
              "      <td>2</td>\n",
              "      <td>1</td>\n",
              "    </tr>\n",
              "    <tr>\n",
              "      <th>3</th>\n",
              "      <td>1.0</td>\n",
              "      <td>1.0</td>\n",
              "      <td>0.0</td>\n",
              "      <td>0</td>\n",
              "      <td>0.0</td>\n",
              "      <td>2583</td>\n",
              "      <td>120.0</td>\n",
              "      <td>360.0</td>\n",
              "      <td>1.0</td>\n",
              "      <td>2</td>\n",
              "      <td>1</td>\n",
              "    </tr>\n",
              "    <tr>\n",
              "      <th>4</th>\n",
              "      <td>1.0</td>\n",
              "      <td>0.0</td>\n",
              "      <td>0.0</td>\n",
              "      <td>1</td>\n",
              "      <td>0.0</td>\n",
              "      <td>6000</td>\n",
              "      <td>141.0</td>\n",
              "      <td>360.0</td>\n",
              "      <td>1.0</td>\n",
              "      <td>2</td>\n",
              "      <td>1</td>\n",
              "    </tr>\n",
              "  </tbody>\n",
              "</table>\n",
              "</div>\n",
              "      <button class=\"colab-df-convert\" onclick=\"convertToInteractive('df-53f127e5-e8ee-421f-b35c-6f7efdd7ab58')\"\n",
              "              title=\"Convert this dataframe to an interactive table.\"\n",
              "              style=\"display:none;\">\n",
              "        \n",
              "  <svg xmlns=\"http://www.w3.org/2000/svg\" height=\"24px\"viewBox=\"0 0 24 24\"\n",
              "       width=\"24px\">\n",
              "    <path d=\"M0 0h24v24H0V0z\" fill=\"none\"/>\n",
              "    <path d=\"M18.56 5.44l.94 2.06.94-2.06 2.06-.94-2.06-.94-.94-2.06-.94 2.06-2.06.94zm-11 1L8.5 8.5l.94-2.06 2.06-.94-2.06-.94L8.5 2.5l-.94 2.06-2.06.94zm10 10l.94 2.06.94-2.06 2.06-.94-2.06-.94-.94-2.06-.94 2.06-2.06.94z\"/><path d=\"M17.41 7.96l-1.37-1.37c-.4-.4-.92-.59-1.43-.59-.52 0-1.04.2-1.43.59L10.3 9.45l-7.72 7.72c-.78.78-.78 2.05 0 2.83L4 21.41c.39.39.9.59 1.41.59.51 0 1.02-.2 1.41-.59l7.78-7.78 2.81-2.81c.8-.78.8-2.07 0-2.86zM5.41 20L4 18.59l7.72-7.72 1.47 1.35L5.41 20z\"/>\n",
              "  </svg>\n",
              "      </button>\n",
              "      \n",
              "  <style>\n",
              "    .colab-df-container {\n",
              "      display:flex;\n",
              "      flex-wrap:wrap;\n",
              "      gap: 12px;\n",
              "    }\n",
              "\n",
              "    .colab-df-convert {\n",
              "      background-color: #E8F0FE;\n",
              "      border: none;\n",
              "      border-radius: 50%;\n",
              "      cursor: pointer;\n",
              "      display: none;\n",
              "      fill: #1967D2;\n",
              "      height: 32px;\n",
              "      padding: 0 0 0 0;\n",
              "      width: 32px;\n",
              "    }\n",
              "\n",
              "    .colab-df-convert:hover {\n",
              "      background-color: #E2EBFA;\n",
              "      box-shadow: 0px 1px 2px rgba(60, 64, 67, 0.3), 0px 1px 3px 1px rgba(60, 64, 67, 0.15);\n",
              "      fill: #174EA6;\n",
              "    }\n",
              "\n",
              "    [theme=dark] .colab-df-convert {\n",
              "      background-color: #3B4455;\n",
              "      fill: #D2E3FC;\n",
              "    }\n",
              "\n",
              "    [theme=dark] .colab-df-convert:hover {\n",
              "      background-color: #434B5C;\n",
              "      box-shadow: 0px 1px 3px 1px rgba(0, 0, 0, 0.15);\n",
              "      filter: drop-shadow(0px 1px 2px rgba(0, 0, 0, 0.3));\n",
              "      fill: #FFFFFF;\n",
              "    }\n",
              "  </style>\n",
              "\n",
              "      <script>\n",
              "        const buttonEl =\n",
              "          document.querySelector('#df-53f127e5-e8ee-421f-b35c-6f7efdd7ab58 button.colab-df-convert');\n",
              "        buttonEl.style.display =\n",
              "          google.colab.kernel.accessAllowed ? 'block' : 'none';\n",
              "\n",
              "        async function convertToInteractive(key) {\n",
              "          const element = document.querySelector('#df-53f127e5-e8ee-421f-b35c-6f7efdd7ab58');\n",
              "          const dataTable =\n",
              "            await google.colab.kernel.invokeFunction('convertToInteractive',\n",
              "                                                     [key], {});\n",
              "          if (!dataTable) return;\n",
              "\n",
              "          const docLinkHtml = 'Like what you see? Visit the ' +\n",
              "            '<a target=\"_blank\" href=https://colab.research.google.com/notebooks/data_table.ipynb>data table notebook</a>'\n",
              "            + ' to learn more about interactive tables.';\n",
              "          element.innerHTML = '';\n",
              "          dataTable['output_type'] = 'display_data';\n",
              "          await google.colab.output.renderOutput(dataTable, element);\n",
              "          const docLink = document.createElement('div');\n",
              "          docLink.innerHTML = docLinkHtml;\n",
              "          element.appendChild(docLink);\n",
              "        }\n",
              "      </script>\n",
              "    </div>\n",
              "  </div>\n",
              "  "
            ]
          },
          "metadata": {},
          "execution_count": 11
        }
      ]
    },
    {
      "cell_type": "markdown",
      "source": [
        "# **CHECKING FOR NULL VALUES**"
      ],
      "metadata": {
        "id": "7TzMFq1Au4dp"
      },
      "id": "7TzMFq1Au4dp"
    },
    {
      "cell_type": "code",
      "execution_count": 14,
      "id": "f284316f",
      "metadata": {
        "scrolled": true,
        "colab": {
          "base_uri": "https://localhost:8080/"
        },
        "id": "f284316f",
        "outputId": "8462ad44-6855-43c6-978d-2535c99aa40b"
      },
      "outputs": [
        {
          "output_type": "execute_result",
          "data": {
            "text/plain": [
              "Gender              13\n",
              "Married              3\n",
              "Dependents          15\n",
              "Education            0\n",
              "Self_Employed       32\n",
              "ApplicantIncome      0\n",
              "LoanAmount          22\n",
              "Loan_Amount_Term    14\n",
              "Credit_History      50\n",
              "Property_Area        0\n",
              "Loan_Status          0\n",
              "dtype: int64"
            ]
          },
          "metadata": {},
          "execution_count": 14
        }
      ],
      "source": [
        "loan.isna().sum()"
      ]
    },
    {
      "cell_type": "markdown",
      "source": [
        "# Calculating mean and median for NAN values"
      ],
      "metadata": {
        "id": "7Qd6QwFRu_3i"
      },
      "id": "7Qd6QwFRu_3i"
    },
    {
      "cell_type": "code",
      "execution_count": 15,
      "id": "42c71d3b",
      "metadata": {
        "colab": {
          "base_uri": "https://localhost:8080/"
        },
        "id": "42c71d3b",
        "outputId": "b5e7a1ae-4300-4978-9fa4-9c0a639bdc4b"
      },
      "outputs": [
        {
          "output_type": "execute_result",
          "data": {
            "text/plain": [
              "(1.0, 1.0, 0.0, 0.0, 146.41216216216216, 342.0, 1.0)"
            ]
          },
          "metadata": {},
          "execution_count": 15
        }
      ],
      "source": [
        "gender=loan[\"Gender\"].median()\n",
        "married=loan[\"Married\"].median()\n",
        "dependents=loan[\"Dependents\"].median()\n",
        "selfemp=loan[\"Self_Employed\"].median()\n",
        "loanamount=loan[\"LoanAmount\"].mean()\n",
        "term=loan[\"Loan_Amount_Term\"].mean()\n",
        "credhis=loan[\"Credit_History\"].median()\n",
        "gender,married,dependents,selfemp,loanamount,term,credhis"
      ]
    },
    {
      "cell_type": "markdown",
      "source": [
        "# **Replacing NULL values with mean and median**"
      ],
      "metadata": {
        "id": "9sw5e8MrvFWj"
      },
      "id": "9sw5e8MrvFWj"
    },
    {
      "cell_type": "code",
      "execution_count": 16,
      "id": "773d0e83",
      "metadata": {
        "colab": {
          "base_uri": "https://localhost:8080/"
        },
        "id": "773d0e83",
        "outputId": "c94b1113-3c96-49d7-8be2-795be072ff20"
      },
      "outputs": [
        {
          "output_type": "execute_result",
          "data": {
            "text/plain": [
              "(614, 11)"
            ]
          },
          "metadata": {},
          "execution_count": 16
        }
      ],
      "source": [
        "loan.shape"
      ]
    },
    {
      "cell_type": "code",
      "source": [
        "loan['Gender']=loan['Gender'].fillna(gender)\n",
        "loan['Married']=loan['Married'].fillna(married)\n",
        "loan['Dependents']=loan['Dependents'].fillna(dependents)\n",
        "loan['Self_Employed']=loan['Self_Employed'].fillna(selfemp)\n",
        "loan['LoanAmount']=loan['LoanAmount'].fillna(loanamount)\n",
        "loan['Loan_Amount_Term']=loan['Loan_Amount_Term'].fillna(term)\n",
        "loan['Credit_History']=loan['Credit_History'].fillna(credhis)"
      ],
      "metadata": {
        "id": "HGtcQxXsxGDH"
      },
      "id": "HGtcQxXsxGDH",
      "execution_count": 17,
      "outputs": []
    },
    {
      "cell_type": "code",
      "execution_count": 18,
      "id": "91eff27e",
      "metadata": {
        "scrolled": true,
        "colab": {
          "base_uri": "https://localhost:8080/"
        },
        "id": "91eff27e",
        "outputId": "f089724b-74c2-4810-97cd-f57633c1b7ed"
      },
      "outputs": [
        {
          "output_type": "execute_result",
          "data": {
            "text/plain": [
              "Gender              0\n",
              "Married             0\n",
              "Dependents          0\n",
              "Education           0\n",
              "Self_Employed       0\n",
              "ApplicantIncome     0\n",
              "LoanAmount          0\n",
              "Loan_Amount_Term    0\n",
              "Credit_History      0\n",
              "Property_Area       0\n",
              "Loan_Status         0\n",
              "dtype: int64"
            ]
          },
          "metadata": {},
          "execution_count": 18
        }
      ],
      "source": [
        "loan.isna().sum()"
      ]
    },
    {
      "cell_type": "markdown",
      "source": [
        "# **Splitting Input and Output columns**"
      ],
      "metadata": {
        "id": "IncHQJxgviaL"
      },
      "id": "IncHQJxgviaL"
    },
    {
      "cell_type": "code",
      "execution_count": null,
      "id": "8c9620a4",
      "metadata": {
        "id": "8c9620a4"
      },
      "outputs": [],
      "source": [
        "Y=np.array(loan[\"Loan_Status\"])\n",
        "del loan[\"Loan_Status\"]"
      ]
    },
    {
      "cell_type": "code",
      "execution_count": null,
      "id": "ed86f2ce",
      "metadata": {
        "colab": {
          "base_uri": "https://localhost:8080/"
        },
        "id": "ed86f2ce",
        "outputId": "e2fbcac0-03d5-46cf-c2ac-53522d1851d6"
      },
      "outputs": [
        {
          "output_type": "execute_result",
          "data": {
            "text/plain": [
              "((614, 10), (614,))"
            ]
          },
          "metadata": {},
          "execution_count": 60
        }
      ],
      "source": [
        "X=loan.values\n",
        "X.shape,Y.shape"
      ]
    },
    {
      "cell_type": "markdown",
      "source": [
        "# splitting into testing and training"
      ],
      "metadata": {
        "id": "e_eY_iRJv4SC"
      },
      "id": "e_eY_iRJv4SC"
    },
    {
      "cell_type": "code",
      "execution_count": null,
      "id": "3deaf000",
      "metadata": {
        "colab": {
          "base_uri": "https://localhost:8080/"
        },
        "id": "3deaf000",
        "outputId": "771ad662-c9f9-4033-fef0-f86c2fafbbb7"
      },
      "outputs": [
        {
          "output_type": "execute_result",
          "data": {
            "text/plain": [
              "((460, 10), (154, 10), (460,), (154,))"
            ]
          },
          "metadata": {},
          "execution_count": 61
        }
      ],
      "source": [
        "from sklearn.model_selection import train_test_split\n",
        "x_train,x_test,y_train,y_test=train_test_split(X,Y,random_state=0)\n",
        "x_train.shape,x_test.shape,y_train.shape,y_test.shape"
      ]
    },
    {
      "cell_type": "markdown",
      "source": [
        "# **Prediction using Logistic Regression**"
      ],
      "metadata": {
        "id": "eYu52r28v7r9"
      },
      "id": "eYu52r28v7r9"
    },
    {
      "cell_type": "code",
      "execution_count": null,
      "id": "fd4b4816",
      "metadata": {
        "scrolled": true,
        "id": "fd4b4816"
      },
      "outputs": [],
      "source": [
        "from sklearn.linear_model import LogisticRegression\n",
        "clf=LogisticRegression()\n",
        "clf.fit(x_train,y_train)\n",
        "y_pred1=clf.predict(x_test)"
      ]
    },
    {
      "cell_type": "code",
      "execution_count": null,
      "id": "573ebc83",
      "metadata": {
        "scrolled": true,
        "colab": {
          "base_uri": "https://localhost:8080/"
        },
        "id": "573ebc83",
        "outputId": "6d7ffc62-dd50-4fa0-c402-0d03e8042f36"
      },
      "outputs": [
        {
          "output_type": "stream",
          "name": "stdout",
          "text": [
            "the accuracy is :  0.8311688311688312 \n",
            "\n",
            "Confusion Matrix : \n",
            " [[ 19  24]\n",
            " [  2 109]]\n"
          ]
        }
      ],
      "source": [
        "print(\"the accuracy is : \", metrics.accuracy_score(y_test,y_pred1),'\\n')\n",
        "print(\"Confusion Matrix : \\n\", metrics.confusion_matrix(y_test,y_pred1))"
      ]
    },
    {
      "cell_type": "markdown",
      "source": [
        "# **Prediction using SVM**"
      ],
      "metadata": {
        "id": "A3vEq8CSxAaF"
      },
      "id": "A3vEq8CSxAaF"
    },
    {
      "cell_type": "code",
      "source": [
        "from sklearn.svm import SVC \n",
        "\n",
        "classifier = SVC(kernel='linear', random_state=0)  \n",
        "classifier.fit(x_train, y_train)  \n",
        "y_pred2=classifier.predict(x_test)"
      ],
      "metadata": {
        "id": "MIiAgIAAxHkV"
      },
      "id": "MIiAgIAAxHkV",
      "execution_count": null,
      "outputs": []
    },
    {
      "cell_type": "code",
      "source": [
        "print(\"the accuracy is : \", metrics.accuracy_score(y_test,y_pred2),'\\n')\n",
        "print(\"Confusion Matrix : \\n\", metrics.confusion_matrix(y_test,y_pred2))"
      ],
      "metadata": {
        "colab": {
          "base_uri": "https://localhost:8080/"
        },
        "id": "1hOb0l2nxMEE",
        "outputId": "5692e8fb-a69e-4fc8-993a-f56aa99f8211"
      },
      "id": "1hOb0l2nxMEE",
      "execution_count": null,
      "outputs": [
        {
          "output_type": "stream",
          "name": "stdout",
          "text": [
            "the accuracy is :  0.8311688311688312 \n",
            "\n",
            "Confusion Matrix : \n",
            " [[ 19  24]\n",
            " [  2 109]]\n"
          ]
        }
      ]
    },
    {
      "cell_type": "markdown",
      "source": [
        "# **Prediction Using KNN**"
      ],
      "metadata": {
        "id": "-G_FFn2vxnSX"
      },
      "id": "-G_FFn2vxnSX"
    },
    {
      "cell_type": "code",
      "source": [
        "from sklearn.neighbors import KNeighborsClassifier  \n",
        "classifier= KNeighborsClassifier(n_neighbors=3)  \n",
        "classifier.fit(x_train, y_train)  \n",
        "y_pred3=classifier.predict(x_test)"
      ],
      "metadata": {
        "id": "SjIMxJVQxsRh"
      },
      "id": "SjIMxJVQxsRh",
      "execution_count": null,
      "outputs": []
    },
    {
      "cell_type": "code",
      "source": [
        "print(\"the accuracy is : \", metrics.accuracy_score(y_test,y_pred3),'\\n')\n",
        "print(\"Confusion Matrix : \\n\", metrics.confusion_matrix(y_test,y_pred3))"
      ],
      "metadata": {
        "colab": {
          "base_uri": "https://localhost:8080/"
        },
        "id": "RB_7WCloxwdg",
        "outputId": "e3017e65-43b2-441b-9279-a157de877064"
      },
      "id": "RB_7WCloxwdg",
      "execution_count": null,
      "outputs": [
        {
          "output_type": "stream",
          "name": "stdout",
          "text": [
            "the accuracy is :  0.6363636363636364 \n",
            "\n",
            "Confusion Matrix : \n",
            " [[16 27]\n",
            " [29 82]]\n"
          ]
        }
      ]
    },
    {
      "cell_type": "markdown",
      "source": [
        "# **Prediction Using Naive Bayes**"
      ],
      "metadata": {
        "id": "o4Kx1S7Zx95F"
      },
      "id": "o4Kx1S7Zx95F"
    },
    {
      "cell_type": "code",
      "source": [
        "from sklearn.naive_bayes import GaussianNB\n",
        "gnb = GaussianNB()\n",
        "gnb.fit(x_train, y_train)\n",
        "y_pred4=gnb.predict(x_test)"
      ],
      "metadata": {
        "id": "8fHlCUsFx9Sz"
      },
      "id": "8fHlCUsFx9Sz",
      "execution_count": null,
      "outputs": []
    },
    {
      "cell_type": "code",
      "source": [
        "print(\"the accuracy is : \", metrics.accuracy_score(y_test,y_pred4),'\\n')\n",
        "print(\"Confusion Matrix : \\n\", metrics.confusion_matrix(y_test,y_pred4))"
      ],
      "metadata": {
        "colab": {
          "base_uri": "https://localhost:8080/"
        },
        "id": "utunOd8OyF5i",
        "outputId": "8103b1fb-3f16-4525-9409-6c028a22f9c1"
      },
      "id": "utunOd8OyF5i",
      "execution_count": null,
      "outputs": [
        {
          "output_type": "stream",
          "name": "stdout",
          "text": [
            "the accuracy is :  0.8246753246753247 \n",
            "\n",
            "Confusion Matrix : \n",
            " [[ 19  24]\n",
            " [  3 108]]\n"
          ]
        }
      ]
    },
    {
      "cell_type": "markdown",
      "source": [
        "# **Using Auto ML**"
      ],
      "metadata": {
        "id": "8M4fF97UyJ0Q"
      },
      "id": "8M4fF97UyJ0Q"
    },
    {
      "cell_type": "code",
      "source": [
        "!pip install auto-sklearn\n",
        "import autosklearn"
      ],
      "metadata": {
        "id": "_AkeIi_myOyG"
      },
      "id": "_AkeIi_myOyG",
      "execution_count": null,
      "outputs": []
    },
    {
      "cell_type": "code",
      "source": [
        "import autosklearn.classification\n",
        "cls = autosklearn.classification.AutoSklearnClassifier(time_left_for_this_task=60)\n",
        "cls.fit(x_train, y_train)\n",
        "predictions = cls.predict(x_test)"
      ],
      "metadata": {
        "id": "bLwAd47Rycga"
      },
      "id": "bLwAd47Rycga",
      "execution_count": null,
      "outputs": []
    },
    {
      "cell_type": "code",
      "source": [
        "print(\"the accuracy is : \", metrics.accuracy_score(y_test,predictions),'\\n')\n",
        "print(\"Confusion Matrix : \\n\", metrics.confusion_matrix(y_test,predictions))"
      ],
      "metadata": {
        "colab": {
          "base_uri": "https://localhost:8080/"
        },
        "id": "0uxrmwZqyl8B",
        "outputId": "0e4edbf1-93cd-4153-feab-d312aff3bcc1"
      },
      "id": "0uxrmwZqyl8B",
      "execution_count": null,
      "outputs": [
        {
          "output_type": "stream",
          "name": "stdout",
          "text": [
            "the accuracy is :  0.8246753246753247 \n",
            "\n",
            "Confusion Matrix : \n",
            " [[ 20  23]\n",
            " [  4 107]]\n"
          ]
        }
      ]
    }
  ],
  "metadata": {
    "kernelspec": {
      "display_name": "Python 3 (ipykernel)",
      "language": "python",
      "name": "python3"
    },
    "language_info": {
      "codemirror_mode": {
        "name": "ipython",
        "version": 3
      },
      "file_extension": ".py",
      "mimetype": "text/x-python",
      "name": "python",
      "nbconvert_exporter": "python",
      "pygments_lexer": "ipython3",
      "version": "3.9.7"
    },
    "colab": {
      "provenance": []
    }
  },
  "nbformat": 4,
  "nbformat_minor": 5
}